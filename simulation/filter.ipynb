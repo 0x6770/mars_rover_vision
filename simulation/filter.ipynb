{
 "cells": [
  {
   "cell_type": "code",
   "execution_count": 1,
   "metadata": {},
   "outputs": [],
   "source": [
    "N = 3"
   ]
  },
  {
   "cell_type": "markdown",
   "metadata": {},
   "source": [
    "# Image processing"
   ]
  },
  {
   "cell_type": "code",
   "execution_count": 2,
   "metadata": {},
   "outputs": [],
   "source": [
    "from numpy import array, append\n",
    "from PIL import Image\n",
    "\n",
    "# resize image to 640x480 \n",
    "# im_org = Image.open(\"image.jpg\").resize((640, 480))\n",
    "# im_org.save(\"image_sd.jpg\")\n",
    "\n",
    "im = Image.open(\"image_sd.jpg\")\n",
    "im_arr = array(im)"
   ]
  },
  {
   "cell_type": "code",
   "execution_count": 5,
   "metadata": {},
   "outputs": [],
   "source": [
    "im_avg_arr = array(im)\n",
    "r, c , p = im_avg_arr.shape\n",
    "\n",
    "for i in range(0,r):\n",
    "    for j in range(N, c):\n",
    "        avg = [0, 0, 0]\n",
    "        for k in range(0, p):\n",
    "            sum = 0\n",
    "            for n in range(0, N):\n",
    "                sum += im_arr[i][j-n][k]\n",
    "            avg[k] = sum/N\n",
    "        im_avg_arr[i,j] = avg \n",
    "\n",
    "im_avg = Image.fromarray(im_avg_arr)\n",
    "im_avg.save(\"image_avg.jpg\")"
   ]
  }
 ],
 "metadata": {
  "kernelspec": {
   "display_name": "Python 3.9.5 64-bit",
   "name": "python395jvsc74a57bd0c71bbd282f076a17d771fbcfeb78046a6b56fb9ddcbf6360aae4cba6109788c8"
  },
  "language_info": {
   "codemirror_mode": {
    "name": "ipython",
    "version": 3
   },
   "file_extension": ".py",
   "mimetype": "text/x-python",
   "name": "python",
   "nbconvert_exporter": "python",
   "pygments_lexer": "ipython3",
   "version": "3.9.5"
  },
  "orig_nbformat": 3
 },
 "nbformat": 4,
 "nbformat_minor": 2
}